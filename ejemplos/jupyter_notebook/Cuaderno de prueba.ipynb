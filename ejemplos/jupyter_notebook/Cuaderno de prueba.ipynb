{
 "cells": [
  {
   "cell_type": "markdown",
   "id": "3deb023f",
   "metadata": {},
   "source": [
    "# TITULO DE PRIMER NIVEL\n",
    "## Título de segundo nivel\n",
    "### Título de tercer nivel"
   ]
  },
  {
   "cell_type": "markdown",
   "id": "e074ff99",
   "metadata": {},
   "source": [
    "__NEGRITA__"
   ]
  },
  {
   "cell_type": "markdown",
   "id": "cf12b55b",
   "metadata": {},
   "source": [
    "_CURSIVA_"
   ]
  },
  {
   "cell_type": "markdown",
   "id": "100674c6",
   "metadata": {},
   "source": [
    "`TEXTO MONOESPACIO`\n",
    "TEXTO NORMAL"
   ]
  },
  {
   "cell_type": "markdown",
   "id": "75a2bea9",
   "metadata": {},
   "source": [
    "> Texto sangrado"
   ]
  },
  {
   "cell_type": "code",
   "execution_count": null,
   "id": "10a0de1b",
   "metadata": {},
   "outputs": [],
   "source": []
  },
  {
   "cell_type": "code",
   "execution_count": null,
   "id": "fa8617a9",
   "metadata": {},
   "outputs": [],
   "source": []
  },
  {
   "cell_type": "markdown",
   "id": "e92b5bb9",
   "metadata": {},
   "source": [
    "<h1>Declaración de lista</h1>\n",
    "<hr>\n",
    "<h2>El bucle for recorre la lista y muestra los elementos<h2>\n",
    "<img src=\"logo.png\" width=\"100\">\n",
    "    <p style=\"color:red; background-color:#AAAAAA; padding:25px\">Párrafo con estilo</p>\n",
    "<img src=\"https://upload.wikimedia.org/wikipedia/commons/6/6a/Sorting_quicksort_anim.gif\">    \n",
    "    <p>Para más información pulsa <a href=\"https://es.wikipedia.org/wiki/Quicksort\">aquí</a></p>\n",
    "<ul>\n",
    "    <li>Item 1</li>\n",
    "    <li>Item 2</li>\n",
    "    <li>Item 3</li>\n",
    "</ul>\n",
    "<ol>\n",
    "    <li>Item 1</li>\n",
    "    <li>Item 2</li>\n",
    "    <li>Item 3</li>\n",
    "</ol>    \n",
    "<table>\n",
    "        <tr>\n",
    "            <td>E1</td>\n",
    "            <td>E2</td>\n",
    "            <td>E3</td>\n",
    "            <td>E4</td>\n",
    "        </tr>\n",
    "        <tr>\n",
    "            <td>E1</td>\n",
    "            <td>E2</td>\n",
    "            <td>E3</td>\n",
    "            <td>E4</td>\n",
    "        </tr>\n",
    "</table>"
   ]
  },
  {
   "cell_type": "raw",
   "id": "b31716df",
   "metadata": {},
   "source": [
    "lista = [1, 3, 8, -6, 15]\n",
    "for i in lista:\n",
    "    print(i)"
   ]
  },
  {
   "cell_type": "code",
   "execution_count": 15,
   "id": "66071af2",
   "metadata": {
    "scrolled": false
   },
   "outputs": [
    {
     "name": "stdout",
     "output_type": "stream",
     "text": [
      "[1, 3, 8, -6, 15]\n"
     ]
    }
   ],
   "source": [
    "print(lista)"
   ]
  },
  {
   "cell_type": "code",
   "execution_count": 16,
   "id": "27e15e2d",
   "metadata": {},
   "outputs": [
    {
     "data": {
      "image/png": "[encoded data removed]",
      "text/plain": [
       "<Figure size 432x288 with 1 Axes>"
      ]
     },
     "metadata": {
      "needs_background": "light"
     },
     "output_type": "display_data"
    }
   ],
   "source": [
    "import matplotlib.pyplot as plt\n",
    "fig, ax = plt.subplots()\n",
    "ax.scatter(x=[1,2,3], y = [3,2,1])\n",
    "plt.show()"
   ]
  }
 ],
 "metadata": {
  "kernelspec": {
   "display_name": "Python 3 (ipykernel)",
   "language": "python",
   "name": "python3"
  },
  "language_info": {
   "codemirror_mode": {
    "name": "ipython",
    "version": 3
   },
   "file_extension": ".py",
   "mimetype": "text/x-python",
   "name": "python",
   "nbconvert_exporter": "python",
   "pygments_lexer": "ipython3",
   "version": "3.10.2"
  }
 },
 "nbformat": 4,
 "nbformat_minor": 5
}
